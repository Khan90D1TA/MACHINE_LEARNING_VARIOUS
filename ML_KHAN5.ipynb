{
 "cells": [
  {
   "cell_type": "markdown",
   "id": "e9f1e923",
   "metadata": {},
   "source": [
    "\n",
    "**Consider the Abalone data set available at UCI ML Repository https://archive.ics.uci.edu/ml/index.php.**"
   ]
  },
  {
   "cell_type": "code",
   "execution_count": 67,
   "id": "dcb269d8",
   "metadata": {},
   "outputs": [],
   "source": [
    "import numpy as np\n",
    "import pandas as pd\n",
    "import matplotlib.pyplot as plt\n",
    "import seaborn as sns\n",
    "\n",
    "from sklearn.model_selection import train_test_split\n",
    "from sklearn.neighbors import KNeighborsRegressor\n",
    "from sklearn.model_selection import GridSearchCV\n",
    "from sklearn.metrics import confusion_matrix, accuracy_score, classification_report\n",
    "from sklearn.metrics import mean_squared_error\n",
    "from sklearn.metrics import mean_absolute_error\n",
    "#https://archive.ics.uci.edu/ml/index.php\n",
    "\n"
   ]
  },
  {
   "cell_type": "code",
   "execution_count": 68,
   "id": "6b5bdf46",
   "metadata": {},
   "outputs": [],
   "source": [
    "url = \"https://archive.ics.uci.edu/ml/machine-learning-databases/abalone/abalone.data\" \n",
    "df = pd.read_csv(url)"
   ]
  },
  {
   "cell_type": "code",
   "execution_count": 69,
   "id": "9bd0e612",
   "metadata": {},
   "outputs": [
    {
     "data": {
      "text/html": [
       "<div>\n",
       "<style scoped>\n",
       "    .dataframe tbody tr th:only-of-type {\n",
       "        vertical-align: middle;\n",
       "    }\n",
       "\n",
       "    .dataframe tbody tr th {\n",
       "        vertical-align: top;\n",
       "    }\n",
       "\n",
       "    .dataframe thead th {\n",
       "        text-align: right;\n",
       "    }\n",
       "</style>\n",
       "<table border=\"1\" class=\"dataframe\">\n",
       "  <thead>\n",
       "    <tr style=\"text-align: right;\">\n",
       "      <th></th>\n",
       "      <th>M</th>\n",
       "      <th>0.455</th>\n",
       "      <th>0.365</th>\n",
       "      <th>0.095</th>\n",
       "      <th>0.514</th>\n",
       "      <th>0.2245</th>\n",
       "      <th>0.101</th>\n",
       "      <th>0.15</th>\n",
       "      <th>15</th>\n",
       "    </tr>\n",
       "  </thead>\n",
       "  <tbody>\n",
       "    <tr>\n",
       "      <th>0</th>\n",
       "      <td>M</td>\n",
       "      <td>0.350</td>\n",
       "      <td>0.265</td>\n",
       "      <td>0.090</td>\n",
       "      <td>0.2255</td>\n",
       "      <td>0.0995</td>\n",
       "      <td>0.0485</td>\n",
       "      <td>0.070</td>\n",
       "      <td>7</td>\n",
       "    </tr>\n",
       "    <tr>\n",
       "      <th>1</th>\n",
       "      <td>F</td>\n",
       "      <td>0.530</td>\n",
       "      <td>0.420</td>\n",
       "      <td>0.135</td>\n",
       "      <td>0.6770</td>\n",
       "      <td>0.2565</td>\n",
       "      <td>0.1415</td>\n",
       "      <td>0.210</td>\n",
       "      <td>9</td>\n",
       "    </tr>\n",
       "    <tr>\n",
       "      <th>2</th>\n",
       "      <td>M</td>\n",
       "      <td>0.440</td>\n",
       "      <td>0.365</td>\n",
       "      <td>0.125</td>\n",
       "      <td>0.5160</td>\n",
       "      <td>0.2155</td>\n",
       "      <td>0.1140</td>\n",
       "      <td>0.155</td>\n",
       "      <td>10</td>\n",
       "    </tr>\n",
       "    <tr>\n",
       "      <th>3</th>\n",
       "      <td>I</td>\n",
       "      <td>0.330</td>\n",
       "      <td>0.255</td>\n",
       "      <td>0.080</td>\n",
       "      <td>0.2050</td>\n",
       "      <td>0.0895</td>\n",
       "      <td>0.0395</td>\n",
       "      <td>0.055</td>\n",
       "      <td>7</td>\n",
       "    </tr>\n",
       "    <tr>\n",
       "      <th>4</th>\n",
       "      <td>I</td>\n",
       "      <td>0.425</td>\n",
       "      <td>0.300</td>\n",
       "      <td>0.095</td>\n",
       "      <td>0.3515</td>\n",
       "      <td>0.1410</td>\n",
       "      <td>0.0775</td>\n",
       "      <td>0.120</td>\n",
       "      <td>8</td>\n",
       "    </tr>\n",
       "  </tbody>\n",
       "</table>\n",
       "</div>"
      ],
      "text/plain": [
       "   M  0.455  0.365  0.095   0.514  0.2245   0.101   0.15  15\n",
       "0  M  0.350  0.265  0.090  0.2255  0.0995  0.0485  0.070   7\n",
       "1  F  0.530  0.420  0.135  0.6770  0.2565  0.1415  0.210   9\n",
       "2  M  0.440  0.365  0.125  0.5160  0.2155  0.1140  0.155  10\n",
       "3  I  0.330  0.255  0.080  0.2050  0.0895  0.0395  0.055   7\n",
       "4  I  0.425  0.300  0.095  0.3515  0.1410  0.0775  0.120   8"
      ]
     },
     "execution_count": 69,
     "metadata": {},
     "output_type": "execute_result"
    }
   ],
   "source": [
    "df.head()"
   ]
  },
  {
   "cell_type": "markdown",
   "id": "e4def1dd",
   "metadata": {},
   "source": [
    "**Change the names of the columns using the following code**\n",
    "\n",
    "**df.columns = [ \"Sex\", \"Length\", \"Diameter\", \"Height\", \"Whole weight\", \"Shucked weight\", \"Viscera weight\", \"Shell weight\", \"Rings\"]**"
   ]
  },
  {
   "cell_type": "code",
   "execution_count": 70,
   "id": "c5b0f705",
   "metadata": {},
   "outputs": [],
   "source": [
    "df.columns = [ \"Sex\", \"Length\", \"Diameter\", \n",
    "              \"Height\", \"Whole weight\", \"Shucked weight\", \n",
    "              \"Viscera weight\", \"Shell weight\", \"Rings\"]"
   ]
  },
  {
   "cell_type": "code",
   "execution_count": 71,
   "id": "2d4cd593",
   "metadata": {},
   "outputs": [
    {
     "data": {
      "text/html": [
       "<div>\n",
       "<style scoped>\n",
       "    .dataframe tbody tr th:only-of-type {\n",
       "        vertical-align: middle;\n",
       "    }\n",
       "\n",
       "    .dataframe tbody tr th {\n",
       "        vertical-align: top;\n",
       "    }\n",
       "\n",
       "    .dataframe thead th {\n",
       "        text-align: right;\n",
       "    }\n",
       "</style>\n",
       "<table border=\"1\" class=\"dataframe\">\n",
       "  <thead>\n",
       "    <tr style=\"text-align: right;\">\n",
       "      <th></th>\n",
       "      <th>Sex</th>\n",
       "      <th>Length</th>\n",
       "      <th>Diameter</th>\n",
       "      <th>Height</th>\n",
       "      <th>Whole weight</th>\n",
       "      <th>Shucked weight</th>\n",
       "      <th>Viscera weight</th>\n",
       "      <th>Shell weight</th>\n",
       "      <th>Rings</th>\n",
       "    </tr>\n",
       "  </thead>\n",
       "  <tbody>\n",
       "    <tr>\n",
       "      <th>0</th>\n",
       "      <td>M</td>\n",
       "      <td>0.350</td>\n",
       "      <td>0.265</td>\n",
       "      <td>0.090</td>\n",
       "      <td>0.2255</td>\n",
       "      <td>0.0995</td>\n",
       "      <td>0.0485</td>\n",
       "      <td>0.070</td>\n",
       "      <td>7</td>\n",
       "    </tr>\n",
       "    <tr>\n",
       "      <th>1</th>\n",
       "      <td>F</td>\n",
       "      <td>0.530</td>\n",
       "      <td>0.420</td>\n",
       "      <td>0.135</td>\n",
       "      <td>0.6770</td>\n",
       "      <td>0.2565</td>\n",
       "      <td>0.1415</td>\n",
       "      <td>0.210</td>\n",
       "      <td>9</td>\n",
       "    </tr>\n",
       "    <tr>\n",
       "      <th>2</th>\n",
       "      <td>M</td>\n",
       "      <td>0.440</td>\n",
       "      <td>0.365</td>\n",
       "      <td>0.125</td>\n",
       "      <td>0.5160</td>\n",
       "      <td>0.2155</td>\n",
       "      <td>0.1140</td>\n",
       "      <td>0.155</td>\n",
       "      <td>10</td>\n",
       "    </tr>\n",
       "    <tr>\n",
       "      <th>3</th>\n",
       "      <td>I</td>\n",
       "      <td>0.330</td>\n",
       "      <td>0.255</td>\n",
       "      <td>0.080</td>\n",
       "      <td>0.2050</td>\n",
       "      <td>0.0895</td>\n",
       "      <td>0.0395</td>\n",
       "      <td>0.055</td>\n",
       "      <td>7</td>\n",
       "    </tr>\n",
       "    <tr>\n",
       "      <th>4</th>\n",
       "      <td>I</td>\n",
       "      <td>0.425</td>\n",
       "      <td>0.300</td>\n",
       "      <td>0.095</td>\n",
       "      <td>0.3515</td>\n",
       "      <td>0.1410</td>\n",
       "      <td>0.0775</td>\n",
       "      <td>0.120</td>\n",
       "      <td>8</td>\n",
       "    </tr>\n",
       "  </tbody>\n",
       "</table>\n",
       "</div>"
      ],
      "text/plain": [
       "  Sex  Length  Diameter  Height  Whole weight  Shucked weight  Viscera weight  \\\n",
       "0   M   0.350     0.265   0.090        0.2255          0.0995          0.0485   \n",
       "1   F   0.530     0.420   0.135        0.6770          0.2565          0.1415   \n",
       "2   M   0.440     0.365   0.125        0.5160          0.2155          0.1140   \n",
       "3   I   0.330     0.255   0.080        0.2050          0.0895          0.0395   \n",
       "4   I   0.425     0.300   0.095        0.3515          0.1410          0.0775   \n",
       "\n",
       "   Shell weight  Rings  \n",
       "0         0.070      7  \n",
       "1         0.210      9  \n",
       "2         0.155     10  \n",
       "3         0.055      7  \n",
       "4         0.120      8  "
      ]
     },
     "execution_count": 71,
     "metadata": {},
     "output_type": "execute_result"
    }
   ],
   "source": [
    "df.head()"
   ]
  },
  {
   "cell_type": "markdown",
   "id": "98c47a1e",
   "metadata": {},
   "source": [
    "\n",
    "#### The goal is to use K-Nearest Neighbors Regressor to predict the number of rings df[\"Rings\"] (target variable) using the features given. Note that one of the features is categorical and you can choose to drop it or to encode it numerically.\n",
    "\n",
    "#### sklearn KNeighborsRegressor https://scikit-learn.org/stable/modules/generated/sklearn.neighbors.KNeighborsRegressor.html\n",
    "\n",
    "#### Divide the data set into subsets for training and testing.\n"
   ]
  },
  {
   "cell_type": "code",
   "execution_count": 72,
   "id": "4b0d22f5",
   "metadata": {},
   "outputs": [],
   "source": [
    "df['Sex'].replace(['M', 'F', 'I'], [2, 1, 0], inplace= True)\n"
   ]
  },
  {
   "cell_type": "code",
   "execution_count": 73,
   "id": "605d0718",
   "metadata": {},
   "outputs": [
    {
     "data": {
      "text/plain": [
       "array([ 7,  9, 10,  8, 20, 16, 19, 14, 11, 12, 15, 18, 13,  5,  4,  6, 21,\n",
       "       17, 22,  1,  3, 26, 23, 29,  2, 27, 25, 24])"
      ]
     },
     "execution_count": 73,
     "metadata": {},
     "output_type": "execute_result"
    }
   ],
   "source": [
    "df['Rings'].unique()"
   ]
  },
  {
   "cell_type": "code",
   "execution_count": 74,
   "id": "1c8b78b0",
   "metadata": {},
   "outputs": [],
   "source": [
    "#df = df.drop(['Sex','Shucked weight'], axis = 1)\n",
    "df = df.drop('Sex', axis = 1)"
   ]
  },
  {
   "cell_type": "markdown",
   "id": "07c719e4",
   "metadata": {},
   "source": [
    " We decide to drop 'Sex' since it is not a physical measurement. "
   ]
  },
  {
   "cell_type": "code",
   "execution_count": 75,
   "id": "73bae13b",
   "metadata": {},
   "outputs": [],
   "source": [
    "y = df['Rings'].values\n",
    "X = df.drop('Rings', axis = 1)\n",
    "#X = df[['Shell weight', 'Diameter', 'Height','Length' ]].to_numpy()"
   ]
  },
  {
   "cell_type": "code",
   "execution_count": 76,
   "id": "3e31793a",
   "metadata": {},
   "outputs": [
    {
     "data": {
      "text/plain": [
       "array([ 7,  9, 10, ...,  9, 10, 12])"
      ]
     },
     "execution_count": 76,
     "metadata": {},
     "output_type": "execute_result"
    }
   ],
   "source": [
    "y"
   ]
  },
  {
   "cell_type": "code",
   "execution_count": 77,
   "id": "766fb526",
   "metadata": {},
   "outputs": [
    {
     "data": {
      "text/html": [
       "<div>\n",
       "<style scoped>\n",
       "    .dataframe tbody tr th:only-of-type {\n",
       "        vertical-align: middle;\n",
       "    }\n",
       "\n",
       "    .dataframe tbody tr th {\n",
       "        vertical-align: top;\n",
       "    }\n",
       "\n",
       "    .dataframe thead th {\n",
       "        text-align: right;\n",
       "    }\n",
       "</style>\n",
       "<table border=\"1\" class=\"dataframe\">\n",
       "  <thead>\n",
       "    <tr style=\"text-align: right;\">\n",
       "      <th></th>\n",
       "      <th>Length</th>\n",
       "      <th>Diameter</th>\n",
       "      <th>Height</th>\n",
       "      <th>Whole weight</th>\n",
       "      <th>Shucked weight</th>\n",
       "      <th>Viscera weight</th>\n",
       "      <th>Shell weight</th>\n",
       "    </tr>\n",
       "  </thead>\n",
       "  <tbody>\n",
       "    <tr>\n",
       "      <th>0</th>\n",
       "      <td>0.350</td>\n",
       "      <td>0.265</td>\n",
       "      <td>0.090</td>\n",
       "      <td>0.2255</td>\n",
       "      <td>0.0995</td>\n",
       "      <td>0.0485</td>\n",
       "      <td>0.0700</td>\n",
       "    </tr>\n",
       "    <tr>\n",
       "      <th>1</th>\n",
       "      <td>0.530</td>\n",
       "      <td>0.420</td>\n",
       "      <td>0.135</td>\n",
       "      <td>0.6770</td>\n",
       "      <td>0.2565</td>\n",
       "      <td>0.1415</td>\n",
       "      <td>0.2100</td>\n",
       "    </tr>\n",
       "    <tr>\n",
       "      <th>2</th>\n",
       "      <td>0.440</td>\n",
       "      <td>0.365</td>\n",
       "      <td>0.125</td>\n",
       "      <td>0.5160</td>\n",
       "      <td>0.2155</td>\n",
       "      <td>0.1140</td>\n",
       "      <td>0.1550</td>\n",
       "    </tr>\n",
       "    <tr>\n",
       "      <th>3</th>\n",
       "      <td>0.330</td>\n",
       "      <td>0.255</td>\n",
       "      <td>0.080</td>\n",
       "      <td>0.2050</td>\n",
       "      <td>0.0895</td>\n",
       "      <td>0.0395</td>\n",
       "      <td>0.0550</td>\n",
       "    </tr>\n",
       "    <tr>\n",
       "      <th>4</th>\n",
       "      <td>0.425</td>\n",
       "      <td>0.300</td>\n",
       "      <td>0.095</td>\n",
       "      <td>0.3515</td>\n",
       "      <td>0.1410</td>\n",
       "      <td>0.0775</td>\n",
       "      <td>0.1200</td>\n",
       "    </tr>\n",
       "    <tr>\n",
       "      <th>...</th>\n",
       "      <td>...</td>\n",
       "      <td>...</td>\n",
       "      <td>...</td>\n",
       "      <td>...</td>\n",
       "      <td>...</td>\n",
       "      <td>...</td>\n",
       "      <td>...</td>\n",
       "    </tr>\n",
       "    <tr>\n",
       "      <th>4171</th>\n",
       "      <td>0.565</td>\n",
       "      <td>0.450</td>\n",
       "      <td>0.165</td>\n",
       "      <td>0.8870</td>\n",
       "      <td>0.3700</td>\n",
       "      <td>0.2390</td>\n",
       "      <td>0.2490</td>\n",
       "    </tr>\n",
       "    <tr>\n",
       "      <th>4172</th>\n",
       "      <td>0.590</td>\n",
       "      <td>0.440</td>\n",
       "      <td>0.135</td>\n",
       "      <td>0.9660</td>\n",
       "      <td>0.4390</td>\n",
       "      <td>0.2145</td>\n",
       "      <td>0.2605</td>\n",
       "    </tr>\n",
       "    <tr>\n",
       "      <th>4173</th>\n",
       "      <td>0.600</td>\n",
       "      <td>0.475</td>\n",
       "      <td>0.205</td>\n",
       "      <td>1.1760</td>\n",
       "      <td>0.5255</td>\n",
       "      <td>0.2875</td>\n",
       "      <td>0.3080</td>\n",
       "    </tr>\n",
       "    <tr>\n",
       "      <th>4174</th>\n",
       "      <td>0.625</td>\n",
       "      <td>0.485</td>\n",
       "      <td>0.150</td>\n",
       "      <td>1.0945</td>\n",
       "      <td>0.5310</td>\n",
       "      <td>0.2610</td>\n",
       "      <td>0.2960</td>\n",
       "    </tr>\n",
       "    <tr>\n",
       "      <th>4175</th>\n",
       "      <td>0.710</td>\n",
       "      <td>0.555</td>\n",
       "      <td>0.195</td>\n",
       "      <td>1.9485</td>\n",
       "      <td>0.9455</td>\n",
       "      <td>0.3765</td>\n",
       "      <td>0.4950</td>\n",
       "    </tr>\n",
       "  </tbody>\n",
       "</table>\n",
       "<p>4176 rows × 7 columns</p>\n",
       "</div>"
      ],
      "text/plain": [
       "      Length  Diameter  Height  Whole weight  Shucked weight  Viscera weight  \\\n",
       "0      0.350     0.265   0.090        0.2255          0.0995          0.0485   \n",
       "1      0.530     0.420   0.135        0.6770          0.2565          0.1415   \n",
       "2      0.440     0.365   0.125        0.5160          0.2155          0.1140   \n",
       "3      0.330     0.255   0.080        0.2050          0.0895          0.0395   \n",
       "4      0.425     0.300   0.095        0.3515          0.1410          0.0775   \n",
       "...      ...       ...     ...           ...             ...             ...   \n",
       "4171   0.565     0.450   0.165        0.8870          0.3700          0.2390   \n",
       "4172   0.590     0.440   0.135        0.9660          0.4390          0.2145   \n",
       "4173   0.600     0.475   0.205        1.1760          0.5255          0.2875   \n",
       "4174   0.625     0.485   0.150        1.0945          0.5310          0.2610   \n",
       "4175   0.710     0.555   0.195        1.9485          0.9455          0.3765   \n",
       "\n",
       "      Shell weight  \n",
       "0           0.0700  \n",
       "1           0.2100  \n",
       "2           0.1550  \n",
       "3           0.0550  \n",
       "4           0.1200  \n",
       "...            ...  \n",
       "4171        0.2490  \n",
       "4172        0.2605  \n",
       "4173        0.3080  \n",
       "4174        0.2960  \n",
       "4175        0.4950  \n",
       "\n",
       "[4176 rows x 7 columns]"
      ]
     },
     "execution_count": 77,
     "metadata": {},
     "output_type": "execute_result"
    }
   ],
   "source": [
    "X"
   ]
  },
  {
   "cell_type": "code",
   "execution_count": 78,
   "id": "eacb0d9f",
   "metadata": {},
   "outputs": [],
   "source": [
    "#trainng set \n",
    "X_train_full, X_test, y_train_full, y_test = train_test_split(X, y, test_size=0.2, random_state=42)\n",
    "\n",
    "#validation to tune hyperparameters\n",
    "X_train, X_valid, y_train, y_valid = train_test_split(X_train_full, y_train_full, test_size=0.25, random_state=42)\n"
   ]
  },
  {
   "cell_type": "code",
   "execution_count": 79,
   "id": "47512c21",
   "metadata": {},
   "outputs": [
    {
     "data": {
      "text/html": [
       "<style>#sk-container-id-2 {color: black;background-color: white;}#sk-container-id-2 pre{padding: 0;}#sk-container-id-2 div.sk-toggleable {background-color: white;}#sk-container-id-2 label.sk-toggleable__label {cursor: pointer;display: block;width: 100%;margin-bottom: 0;padding: 0.3em;box-sizing: border-box;text-align: center;}#sk-container-id-2 label.sk-toggleable__label-arrow:before {content: \"▸\";float: left;margin-right: 0.25em;color: #696969;}#sk-container-id-2 label.sk-toggleable__label-arrow:hover:before {color: black;}#sk-container-id-2 div.sk-estimator:hover label.sk-toggleable__label-arrow:before {color: black;}#sk-container-id-2 div.sk-toggleable__content {max-height: 0;max-width: 0;overflow: hidden;text-align: left;background-color: #f0f8ff;}#sk-container-id-2 div.sk-toggleable__content pre {margin: 0.2em;color: black;border-radius: 0.25em;background-color: #f0f8ff;}#sk-container-id-2 input.sk-toggleable__control:checked~div.sk-toggleable__content {max-height: 200px;max-width: 100%;overflow: auto;}#sk-container-id-2 input.sk-toggleable__control:checked~label.sk-toggleable__label-arrow:before {content: \"▾\";}#sk-container-id-2 div.sk-estimator input.sk-toggleable__control:checked~label.sk-toggleable__label {background-color: #d4ebff;}#sk-container-id-2 div.sk-label input.sk-toggleable__control:checked~label.sk-toggleable__label {background-color: #d4ebff;}#sk-container-id-2 input.sk-hidden--visually {border: 0;clip: rect(1px 1px 1px 1px);clip: rect(1px, 1px, 1px, 1px);height: 1px;margin: -1px;overflow: hidden;padding: 0;position: absolute;width: 1px;}#sk-container-id-2 div.sk-estimator {font-family: monospace;background-color: #f0f8ff;border: 1px dotted black;border-radius: 0.25em;box-sizing: border-box;margin-bottom: 0.5em;}#sk-container-id-2 div.sk-estimator:hover {background-color: #d4ebff;}#sk-container-id-2 div.sk-parallel-item::after {content: \"\";width: 100%;border-bottom: 1px solid gray;flex-grow: 1;}#sk-container-id-2 div.sk-label:hover label.sk-toggleable__label {background-color: #d4ebff;}#sk-container-id-2 div.sk-serial::before {content: \"\";position: absolute;border-left: 1px solid gray;box-sizing: border-box;top: 0;bottom: 0;left: 50%;z-index: 0;}#sk-container-id-2 div.sk-serial {display: flex;flex-direction: column;align-items: center;background-color: white;padding-right: 0.2em;padding-left: 0.2em;position: relative;}#sk-container-id-2 div.sk-item {position: relative;z-index: 1;}#sk-container-id-2 div.sk-parallel {display: flex;align-items: stretch;justify-content: center;background-color: white;position: relative;}#sk-container-id-2 div.sk-item::before, #sk-container-id-2 div.sk-parallel-item::before {content: \"\";position: absolute;border-left: 1px solid gray;box-sizing: border-box;top: 0;bottom: 0;left: 50%;z-index: -1;}#sk-container-id-2 div.sk-parallel-item {display: flex;flex-direction: column;z-index: 1;position: relative;background-color: white;}#sk-container-id-2 div.sk-parallel-item:first-child::after {align-self: flex-end;width: 50%;}#sk-container-id-2 div.sk-parallel-item:last-child::after {align-self: flex-start;width: 50%;}#sk-container-id-2 div.sk-parallel-item:only-child::after {width: 0;}#sk-container-id-2 div.sk-dashed-wrapped {border: 1px dashed gray;margin: 0 0.4em 0.5em 0.4em;box-sizing: border-box;padding-bottom: 0.4em;background-color: white;}#sk-container-id-2 div.sk-label label {font-family: monospace;font-weight: bold;display: inline-block;line-height: 1.2em;}#sk-container-id-2 div.sk-label-container {text-align: center;}#sk-container-id-2 div.sk-container {/* jupyter's `normalize.less` sets `[hidden] { display: none; }` but bootstrap.min.css set `[hidden] { display: none !important; }` so we also need the `!important` here to be able to override the default hidden behavior on the sphinx rendered scikit-learn.org. See: https://github.com/scikit-learn/scikit-learn/issues/21755 */display: inline-block !important;position: relative;}#sk-container-id-2 div.sk-text-repr-fallback {display: none;}</style><div id=\"sk-container-id-2\" class=\"sk-top-container\"><div class=\"sk-text-repr-fallback\"><pre>KNeighborsRegressor(n_neighbors=14)</pre><b>In a Jupyter environment, please rerun this cell to show the HTML representation or trust the notebook. <br />On GitHub, the HTML representation is unable to render, please try loading this page with nbviewer.org.</b></div><div class=\"sk-container\" hidden><div class=\"sk-item\"><div class=\"sk-estimator sk-toggleable\"><input class=\"sk-toggleable__control sk-hidden--visually\" id=\"sk-estimator-id-2\" type=\"checkbox\" checked><label for=\"sk-estimator-id-2\" class=\"sk-toggleable__label sk-toggleable__label-arrow\">KNeighborsRegressor</label><div class=\"sk-toggleable__content\"><pre>KNeighborsRegressor(n_neighbors=14)</pre></div></div></div></div></div>"
      ],
      "text/plain": [
       "KNeighborsRegressor(n_neighbors=14)"
      ]
     },
     "execution_count": 79,
     "metadata": {},
     "output_type": "execute_result"
    }
   ],
   "source": [
    "knnmod = KNeighborsRegressor(14)\n",
    "knnmod.fit(X_train, y_train)"
   ]
  },
  {
   "cell_type": "code",
   "execution_count": 80,
   "id": "37577ac8",
   "metadata": {},
   "outputs": [
    {
     "data": {
      "text/plain": [
       "array([10.78571429,  7.28571429,  8.21428571, 10.71428571,  4.35714286,\n",
       "        9.        ,  8.64285714, 11.        , 10.07142857, 12.64285714,\n",
       "       13.42857143, 11.57142857, 16.07142857, 11.        ,  8.64285714,\n",
       "       11.5       , 12.92857143,  8.78571429, 12.5       ,  9.85714286,\n",
       "        5.92857143, 10.64285714,  5.07142857,  5.07142857,  8.35714286,\n",
       "        6.28571429,  7.28571429,  9.14285714, 11.57142857,  9.14285714,\n",
       "       10.35714286,  9.64285714,  7.64285714,  6.42857143,  9.57142857,\n",
       "        7.5       , 11.78571429, 10.92857143,  9.5       ,  6.71428571,\n",
       "       10.28571429, 11.71428571, 10.21428571,  8.85714286, 11.92857143,\n",
       "        7.5       ,  9.        , 14.5       , 10.85714286, 11.78571429,\n",
       "       10.78571429, 10.21428571,  8.        , 10.78571429,  9.35714286,\n",
       "        9.28571429, 13.78571429, 10.42857143, 11.5       ,  7.64285714,\n",
       "       10.5       , 11.07142857,  5.35714286,  6.57142857, 16.5       ,\n",
       "       11.92857143, 11.14285714,  8.07142857, 12.14285714, 12.42857143,\n",
       "        5.07142857, 10.35714286, 10.14285714, 10.85714286, 12.28571429,\n",
       "        9.        ,  7.14285714,  8.92857143,  9.07142857,  9.85714286,\n",
       "        7.57142857,  9.42857143,  6.78571429, 11.07142857, 13.92857143,\n",
       "        9.92857143, 10.14285714, 13.85714286, 12.07142857, 14.28571429,\n",
       "       10.5       ,  9.92857143,  6.85714286,  6.92857143, 14.64285714,\n",
       "       10.5       ,  9.        ,  9.92857143,  8.78571429,  7.14285714,\n",
       "        7.14285714, 10.42857143,  7.78571429,  7.5       ,  8.14285714,\n",
       "       10.21428571,  7.5       ,  7.92857143,  5.78571429,  9.21428571,\n",
       "       13.        ,  7.85714286,  9.21428571, 10.21428571, 12.42857143,\n",
       "       12.07142857,  7.5       , 10.21428571,  9.5       , 11.35714286,\n",
       "       10.64285714,  9.07142857, 10.64285714,  9.35714286, 12.71428571,\n",
       "       11.        ,  7.42857143,  7.07142857,  8.07142857,  7.14285714,\n",
       "       11.14285714,  7.5       , 11.5       , 10.14285714, 12.35714286,\n",
       "        8.5       , 12.28571429,  4.14285714,  7.21428571, 10.42857143,\n",
       "       11.64285714,  9.35714286, 11.57142857, 10.28571429,  9.07142857,\n",
       "        6.92857143,  5.57142857, 10.07142857, 10.        , 10.14285714,\n",
       "        8.28571429, 10.42857143,  8.42857143,  4.07142857,  8.07142857,\n",
       "       10.07142857,  7.        ,  9.14285714,  7.64285714, 16.        ,\n",
       "        8.        , 10.92857143,  9.07142857,  7.21428571, 13.85714286,\n",
       "       11.07142857,  8.92857143, 10.28571429,  8.42857143, 10.71428571,\n",
       "        7.21428571,  9.64285714,  5.71428571,  9.92857143,  8.78571429,\n",
       "       10.07142857,  9.        , 11.28571429,  8.5       , 11.07142857,\n",
       "        9.5       ,  9.14285714, 11.57142857, 12.07142857,  7.28571429,\n",
       "        9.        , 10.        ,  7.5       ,  9.5       , 11.        ,\n",
       "        6.71428571, 11.57142857, 10.71428571,  9.35714286, 12.14285714,\n",
       "       10.42857143,  8.42857143, 11.64285714,  7.5       , 10.14285714,\n",
       "       11.85714286,  9.07142857, 12.        ,  8.28571429, 10.92857143,\n",
       "       10.85714286, 13.07142857,  9.28571429,  9.78571429, 10.78571429,\n",
       "        9.28571429,  5.28571429,  8.28571429, 11.57142857,  9.07142857,\n",
       "        4.35714286,  9.57142857,  7.5       , 10.21428571, 16.35714286,\n",
       "        9.64285714, 10.71428571,  8.78571429,  6.78571429,  8.        ,\n",
       "        4.28571429,  8.28571429,  8.28571429, 13.71428571, 11.92857143,\n",
       "        9.5       ,  8.92857143,  8.57142857, 10.85714286, 12.42857143,\n",
       "        7.78571429, 12.42857143, 13.35714286, 12.78571429, 12.07142857,\n",
       "        7.21428571, 12.28571429,  9.21428571,  8.21428571, 10.78571429,\n",
       "        9.5       , 10.64285714, 10.28571429,  5.78571429,  7.85714286,\n",
       "        8.78571429, 10.21428571,  7.57142857,  8.14285714, 11.35714286,\n",
       "        5.28571429, 11.07142857,  8.64285714, 10.57142857,  9.21428571,\n",
       "        8.64285714,  9.21428571,  9.71428571,  9.78571429, 10.92857143,\n",
       "        7.42857143, 11.        ,  9.64285714, 10.71428571, 10.92857143,\n",
       "       10.92857143, 10.42857143,  9.        ,  7.35714286, 10.64285714,\n",
       "       12.07142857,  7.28571429, 11.28571429, 10.        , 10.71428571,\n",
       "       10.57142857,  8.5       ,  9.78571429, 10.14285714,  6.64285714,\n",
       "       10.64285714, 11.78571429,  8.07142857,  7.07142857, 10.28571429,\n",
       "       11.92857143,  9.5       , 11.78571429,  9.21428571, 12.07142857,\n",
       "        7.78571429, 11.14285714, 11.78571429,  8.5       ,  6.5       ,\n",
       "        9.5       , 10.        ,  7.07142857,  7.5       ,  9.85714286,\n",
       "       13.85714286, 12.71428571,  6.78571429,  8.21428571,  8.85714286,\n",
       "       11.35714286, 11.14285714,  7.78571429, 11.28571429, 10.42857143,\n",
       "        6.35714286, 11.57142857,  8.92857143, 11.14285714, 11.5       ,\n",
       "        5.71428571, 10.42857143, 10.71428571, 10.78571429,  6.21428571,\n",
       "        8.57142857,  7.71428571,  6.5       , 10.35714286,  9.        ,\n",
       "        8.35714286, 10.57142857,  9.07142857, 11.57142857,  5.21428571,\n",
       "        9.14285714,  8.35714286, 12.21428571,  9.42857143, 10.14285714,\n",
       "       16.64285714, 10.71428571, 10.28571429, 10.        ,  9.64285714,\n",
       "       10.21428571, 14.28571429, 11.42857143,  9.14285714,  8.42857143,\n",
       "       11.35714286,  8.        ,  9.5       , 11.14285714, 10.78571429,\n",
       "        7.64285714, 10.85714286,  9.92857143, 10.28571429,  9.35714286,\n",
       "       10.21428571,  7.92857143, 13.21428571, 10.78571429, 11.        ,\n",
       "        8.64285714,  8.42857143,  8.57142857, 13.        , 10.28571429,\n",
       "        5.85714286,  6.85714286,  9.21428571, 11.71428571, 12.71428571,\n",
       "        9.21428571,  7.35714286,  9.        , 11.42857143, 14.64285714,\n",
       "       14.78571429,  8.42857143, 14.85714286, 12.78571429, 12.        ,\n",
       "       10.64285714,  8.07142857, 16.78571429, 10.        ,  8.        ,\n",
       "        9.5       ,  5.5       , 11.14285714, 16.78571429, 10.5       ,\n",
       "       10.57142857,  8.        ,  9.92857143, 10.07142857, 11.14285714,\n",
       "       14.64285714, 14.14285714,  7.14285714, 10.        ,  7.07142857,\n",
       "       11.07142857,  9.78571429, 12.        , 12.42857143,  9.71428571,\n",
       "       10.07142857,  7.21428571, 10.35714286, 16.42857143, 10.78571429,\n",
       "        8.28571429,  5.        ,  8.28571429,  6.92857143,  9.92857143,\n",
       "        9.21428571, 10.71428571,  9.71428571, 13.42857143,  9.64285714,\n",
       "        6.64285714, 13.57142857,  7.64285714, 10.57142857,  6.14285714,\n",
       "       11.35714286, 12.78571429,  9.78571429, 16.        , 13.78571429,\n",
       "        7.85714286, 10.35714286,  8.28571429,  6.42857143,  7.21428571,\n",
       "        9.        ,  9.92857143, 11.35714286, 11.64285714, 12.07142857,\n",
       "        5.85714286, 13.64285714, 11.57142857, 10.85714286,  6.71428571,\n",
       "        5.42857143,  9.71428571,  9.42857143, 12.57142857,  8.21428571,\n",
       "        7.64285714, 12.85714286, 12.14285714, 11.35714286,  7.92857143,\n",
       "       10.35714286, 11.5       ,  7.92857143, 10.42857143, 11.21428571,\n",
       "       12.35714286,  6.07142857, 11.        ,  6.92857143,  8.28571429,\n",
       "        7.        ,  9.07142857,  9.        , 10.21428571,  8.        ,\n",
       "        9.35714286, 15.35714286, 12.07142857,  5.85714286,  9.64285714,\n",
       "       11.        ,  8.        ,  8.5       , 10.35714286, 10.78571429,\n",
       "        9.35714286, 11.35714286,  9.57142857,  8.42857143, 10.28571429,\n",
       "       10.57142857, 10.42857143,  7.78571429,  8.35714286,  9.28571429,\n",
       "        8.78571429,  9.28571429, 10.28571429,  7.        ,  8.64285714,\n",
       "        9.5       ,  9.78571429, 14.57142857,  8.92857143, 10.14285714,\n",
       "        4.42857143,  9.42857143,  6.64285714,  3.85714286,  8.5       ,\n",
       "       12.07142857,  8.71428571, 12.14285714,  8.42857143, 11.78571429,\n",
       "        9.28571429,  9.42857143,  8.35714286, 10.85714286, 11.5       ,\n",
       "       12.5       ,  7.92857143,  8.57142857,  9.85714286, 12.57142857,\n",
       "        9.14285714,  8.21428571,  9.92857143, 11.14285714,  8.71428571,\n",
       "        8.5       , 11.57142857, 10.42857143, 11.14285714,  7.14285714,\n",
       "       10.85714286,  9.71428571,  8.21428571, 10.07142857, 10.92857143,\n",
       "       11.71428571,  8.14285714,  9.35714286,  8.07142857,  7.78571429,\n",
       "       10.14285714,  8.92857143,  8.21428571,  8.71428571,  9.57142857,\n",
       "       10.35714286, 10.21428571, 11.21428571,  6.71428571, 14.57142857,\n",
       "        8.35714286, 13.78571429,  9.85714286, 13.78571429,  8.92857143,\n",
       "        8.14285714,  5.85714286,  7.        ,  9.78571429, 10.        ,\n",
       "        8.5       , 12.35714286, 10.78571429,  7.14285714,  8.28571429,\n",
       "       10.35714286,  8.78571429,  8.71428571,  9.35714286, 10.        ,\n",
       "        6.64285714, 11.5       ,  8.21428571,  9.71428571,  5.78571429,\n",
       "       10.07142857,  5.71428571,  8.5       , 12.78571429,  7.5       ,\n",
       "       10.35714286, 11.57142857, 10.        , 10.        ,  8.28571429,\n",
       "       10.71428571,  6.71428571, 11.92857143, 10.07142857, 10.35714286,\n",
       "        6.5       , 14.57142857,  8.        ,  8.14285714, 10.64285714,\n",
       "        7.92857143, 10.07142857,  9.35714286,  6.35714286,  4.28571429,\n",
       "       14.21428571,  8.5       ,  8.78571429,  8.07142857,  8.92857143,\n",
       "        9.28571429,  9.5       , 12.85714286, 11.        , 10.78571429,\n",
       "        8.64285714, 10.5       , 10.14285714,  7.64285714,  7.35714286,\n",
       "       11.92857143,  8.78571429, 11.92857143,  9.        , 11.07142857,\n",
       "       11.92857143,  7.5       ,  9.64285714,  7.57142857,  9.        ,\n",
       "        9.07142857, 11.07142857,  9.64285714, 11.07142857,  8.5       ,\n",
       "       11.57142857,  8.64285714,  6.85714286, 13.5       , 10.57142857,\n",
       "       11.        ,  4.78571429, 10.21428571, 13.        ,  9.85714286,\n",
       "        9.28571429,  9.21428571, 10.07142857,  9.92857143, 12.71428571,\n",
       "        9.85714286,  9.5       , 15.28571429,  7.35714286, 14.92857143,\n",
       "       10.07142857, 10.35714286,  8.21428571, 11.14285714,  9.92857143,\n",
       "        8.        , 12.42857143, 10.71428571, 12.64285714,  9.64285714,\n",
       "       12.14285714,  9.71428571,  8.        , 10.07142857,  8.71428571,\n",
       "       10.07142857, 11.28571429, 10.42857143, 11.14285714,  7.35714286,\n",
       "        4.35714286,  8.64285714,  9.        ,  9.64285714,  9.64285714,\n",
       "        9.57142857,  8.5       ,  9.        ,  9.64285714,  9.5       ,\n",
       "       11.21428571,  9.35714286,  9.28571429,  9.78571429,  8.57142857,\n",
       "        9.92857143, 11.85714286, 10.78571429,  9.92857143, 10.35714286,\n",
       "        8.85714286,  7.5       ,  9.85714286, 11.14285714, 11.35714286,\n",
       "        9.85714286, 17.28571429, 10.28571429, 11.28571429,  7.42857143,\n",
       "        9.92857143,  8.57142857,  9.64285714, 10.57142857, 11.14285714,\n",
       "       10.28571429,  8.71428571,  8.42857143,  9.85714286, 11.92857143,\n",
       "        7.92857143,  6.64285714, 14.5       ,  9.78571429, 11.14285714,\n",
       "       11.71428571,  9.71428571,  9.07142857,  9.14285714,  8.5       ,\n",
       "        6.85714286, 10.42857143,  9.35714286,  9.71428571,  3.57142857,\n",
       "       12.57142857,  8.14285714, 10.42857143,  8.5       ,  7.        ,\n",
       "       10.07142857,  5.71428571,  8.07142857, 10.78571429, 13.28571429,\n",
       "       10.5       ,  8.71428571,  9.21428571,  8.07142857, 13.07142857,\n",
       "        5.07142857,  9.92857143, 10.        ,  9.78571429, 11.35714286,\n",
       "       12.        ,  9.21428571,  6.92857143, 13.07142857, 10.21428571,\n",
       "        6.        , 10.78571429,  9.5       , 10.71428571, 10.78571429,\n",
       "        9.5       ,  6.71428571, 11.        ,  7.71428571, 11.35714286,\n",
       "       10.21428571,  9.64285714, 13.85714286, 13.78571429, 11.64285714,\n",
       "        8.        ,  8.14285714, 10.07142857, 11.        , 10.85714286,\n",
       "       10.        ,  5.71428571,  9.57142857,  7.57142857,  9.92857143,\n",
       "        8.57142857, 14.71428571,  8.42857143,  8.57142857,  6.71428571,\n",
       "        7.85714286,  7.5       ,  9.71428571, 11.14285714,  8.21428571,\n",
       "        8.5       , 10.64285714,  8.5       ,  8.42857143, 11.64285714,\n",
       "        7.42857143,  9.85714286, 11.07142857,  8.64285714, 10.21428571,\n",
       "        9.92857143,  9.        ,  8.35714286,  6.92857143, 10.07142857,\n",
       "       12.21428571,  9.        ,  8.57142857, 10.07142857,  5.71428571,\n",
       "        7.92857143, 11.57142857, 11.28571429, 10.        ,  7.57142857,\n",
       "        5.92857143, 11.85714286,  8.21428571,  7.64285714,  8.14285714,\n",
       "        6.57142857,  7.42857143, 10.42857143,  7.85714286,  7.92857143,\n",
       "        9.78571429, 12.57142857, 10.85714286,  9.85714286, 10.14285714,\n",
       "       10.35714286, 12.07142857, 16.71428571, 10.07142857, 11.92857143])"
      ]
     },
     "execution_count": 80,
     "metadata": {},
     "output_type": "execute_result"
    }
   ],
   "source": [
    "y_pred = knnmod.predict(X_valid)\n",
    "y_pred"
   ]
  },
  {
   "cell_type": "markdown",
   "id": "2d2fae1d",
   "metadata": {},
   "source": [
    "We started with k=5, where the mse = 4.91. We increased k by increments of 5. When k = 10, mse= 4.38. When we incresed to 15 and 20 neighbors, our mse was approximately 4.37. Furthermore, we test numbers between 10-15, and found that when k = 14, mse = 4.337.   "
   ]
  },
  {
   "cell_type": "markdown",
   "id": "c817a63e",
   "metadata": {},
   "source": [
    "#### Since this is a regression problem, the appropriate error functions you may use are MSE, MAE, and RMSE. Consider several different choices of the hyper-parameter K and see how the error changes with respect to K."
   ]
  },
  {
   "cell_type": "code",
   "execution_count": 81,
   "id": "80fae1a1",
   "metadata": {},
   "outputs": [
    {
     "data": {
      "text/plain": [
       "4.337400708786509"
      ]
     },
     "execution_count": 81,
     "metadata": {},
     "output_type": "execute_result"
    }
   ],
   "source": [
    "mse = mean_squared_error(y_valid, y_pred)\n",
    "mse"
   ]
  },
  {
   "cell_type": "code",
   "execution_count": 82,
   "id": "0f2bffdc",
   "metadata": {},
   "outputs": [
    {
     "data": {
      "text/plain": [
       "1.470059880239521"
      ]
     },
     "execution_count": 82,
     "metadata": {},
     "output_type": "execute_result"
    }
   ],
   "source": [
    "mean_absolute_error(y_valid, y_pred)"
   ]
  },
  {
   "cell_type": "code",
   "execution_count": 83,
   "id": "d35dbc69",
   "metadata": {},
   "outputs": [
    {
     "data": {
      "text/plain": [
       "2.082642722308968"
      ]
     },
     "execution_count": 83,
     "metadata": {},
     "output_type": "execute_result"
    }
   ],
   "source": [
    "np.sqrt(mse)"
   ]
  },
  {
   "cell_type": "code",
   "execution_count": 84,
   "id": "59e371e8",
   "metadata": {},
   "outputs": [
    {
     "data": {
      "text/plain": [
       "55.58667533464421"
      ]
     },
     "execution_count": 84,
     "metadata": {},
     "output_type": "execute_result"
    }
   ],
   "source": [
    "knnmod.score(X_test, y_test)*100"
   ]
  },
  {
   "cell_type": "markdown",
   "id": "2f551c40",
   "metadata": {},
   "source": [
    "We can use ‘score’ function to see how well our model predictions match up to the actual results. Our model has an accuracy of approximately 55.59%. Let's see if we can increase model performance."
   ]
  },
  {
   "cell_type": "markdown",
   "id": "403dd784",
   "metadata": {},
   "source": [
    "#### Use GridSearchCV to select the optimal values of K (and maybe other hyper-parameters) and report the model performance."
   ]
  },
  {
   "cell_type": "code",
   "execution_count": 85,
   "id": "02040800",
   "metadata": {},
   "outputs": [],
   "source": [
    "\n",
    "from sklearn.model_selection import cross_val_score, GridSearchCV, RandomizedSearchCV\n"
   ]
  },
  {
   "cell_type": "code",
   "execution_count": 86,
   "id": "e0184536",
   "metadata": {},
   "outputs": [],
   "source": [
    "X_train, X_test, y_train,y_test = train_test_split(X, y, \n",
    "                                                    test_size=0.2, \n",
    "                                                    random_state=42)\n",
    "\n",
    "\n"
   ]
  },
  {
   "cell_type": "code",
   "execution_count": 87,
   "id": "bf2ac5d9",
   "metadata": {},
   "outputs": [
    {
     "data": {
      "text/plain": [
       "{'mean_fit_time': array([0.00408585, 0.00347254, 0.00358813, 0.00348098, 0.00314555,\n",
       "        0.00315082, 0.00317593, 0.00314665, 0.00307841, 0.00319469,\n",
       "        0.00312421, 0.00313148, 0.00348694, 0.00328956, 0.00329783,\n",
       "        0.00316212, 0.00312788, 0.00309439, 0.00312278, 0.00315788,\n",
       "        0.00312726, 0.00311556, 0.00317595, 0.00316815, 0.00310986,\n",
       "        0.00314963, 0.00320845, 0.00312829, 0.00312293, 0.00318136]),\n",
       " 'std_fit_time': array([1.63773117e-03, 3.49930474e-04, 4.88515934e-04, 3.83134859e-04,\n",
       "        9.59566037e-05, 1.41389303e-04, 1.50629522e-04, 1.24262519e-04,\n",
       "        6.20861207e-05, 1.12456726e-04, 1.01928694e-04, 7.07880942e-05,\n",
       "        6.75142542e-04, 2.65858551e-04, 1.79994831e-04, 1.08967070e-04,\n",
       "        1.35885207e-04, 7.33690944e-05, 1.03350285e-04, 1.31312956e-04,\n",
       "        6.87803552e-05, 6.29429745e-05, 1.33906599e-04, 1.37629520e-04,\n",
       "        1.06222637e-04, 1.34794588e-04, 1.52763839e-04, 1.10695515e-04,\n",
       "        9.90414568e-05, 1.18667669e-04]),\n",
       " 'mean_score_time': array([0.00481162, 0.00454235, 0.00450325, 0.00464606, 0.00439966,\n",
       "        0.00440693, 0.00452118, 0.00468376, 0.00477326, 0.00473394,\n",
       "        0.00490465, 0.00493214, 0.00539184, 0.00532866, 0.00550742,\n",
       "        0.0052784 , 0.00534549, 0.00531089, 0.00536761, 0.00548258,\n",
       "        0.00552304, 0.00553839, 0.00562761, 0.00573802, 0.00574546,\n",
       "        0.00582473, 0.00586524, 0.00587411, 0.005966  , 0.00609145]),\n",
       " 'std_score_time': array([1.18241727e-03, 6.64485532e-04, 3.93869051e-04, 3.29867885e-04,\n",
       "        1.72630141e-04, 1.31028526e-04, 1.40481147e-04, 1.82377449e-04,\n",
       "        1.77549221e-04, 9.32835474e-05, 1.52781007e-04, 1.91860141e-04,\n",
       "        4.10433564e-04, 4.34099190e-04, 5.17752904e-04, 2.08486538e-04,\n",
       "        2.01629401e-04, 1.73318345e-04, 2.17297319e-04, 2.09624096e-04,\n",
       "        8.30759301e-05, 2.23150952e-04, 1.77442647e-04, 2.14335094e-04,\n",
       "        1.55387534e-04, 2.89188057e-04, 2.82648080e-04, 2.32295977e-04,\n",
       "        2.00227290e-04, 2.75444587e-04]),\n",
       " 'param_n_neighbors': masked_array(data=[1, 2, 3, 4, 5, 6, 7, 8, 9, 10, 11, 12, 13, 14, 15, 16,\n",
       "                    17, 18, 19, 20, 21, 22, 23, 24, 25, 26, 27, 28, 29, 30],\n",
       "              mask=[False, False, False, False, False, False, False, False,\n",
       "                    False, False, False, False, False, False, False, False,\n",
       "                    False, False, False, False, False, False, False, False,\n",
       "                    False, False, False, False, False, False],\n",
       "        fill_value='?',\n",
       "             dtype=object),\n",
       " 'param_weights': masked_array(data=['distance', 'distance', 'distance', 'distance',\n",
       "                    'distance', 'distance', 'distance', 'distance',\n",
       "                    'distance', 'distance', 'distance', 'distance',\n",
       "                    'distance', 'distance', 'distance', 'distance',\n",
       "                    'distance', 'distance', 'distance', 'distance',\n",
       "                    'distance', 'distance', 'distance', 'distance',\n",
       "                    'distance', 'distance', 'distance', 'distance',\n",
       "                    'distance', 'distance'],\n",
       "              mask=[False, False, False, False, False, False, False, False,\n",
       "                    False, False, False, False, False, False, False, False,\n",
       "                    False, False, False, False, False, False, False, False,\n",
       "                    False, False, False, False, False, False],\n",
       "        fill_value='?',\n",
       "             dtype=object),\n",
       " 'params': [{'n_neighbors': 1, 'weights': 'distance'},\n",
       "  {'n_neighbors': 2, 'weights': 'distance'},\n",
       "  {'n_neighbors': 3, 'weights': 'distance'},\n",
       "  {'n_neighbors': 4, 'weights': 'distance'},\n",
       "  {'n_neighbors': 5, 'weights': 'distance'},\n",
       "  {'n_neighbors': 6, 'weights': 'distance'},\n",
       "  {'n_neighbors': 7, 'weights': 'distance'},\n",
       "  {'n_neighbors': 8, 'weights': 'distance'},\n",
       "  {'n_neighbors': 9, 'weights': 'distance'},\n",
       "  {'n_neighbors': 10, 'weights': 'distance'},\n",
       "  {'n_neighbors': 11, 'weights': 'distance'},\n",
       "  {'n_neighbors': 12, 'weights': 'distance'},\n",
       "  {'n_neighbors': 13, 'weights': 'distance'},\n",
       "  {'n_neighbors': 14, 'weights': 'distance'},\n",
       "  {'n_neighbors': 15, 'weights': 'distance'},\n",
       "  {'n_neighbors': 16, 'weights': 'distance'},\n",
       "  {'n_neighbors': 17, 'weights': 'distance'},\n",
       "  {'n_neighbors': 18, 'weights': 'distance'},\n",
       "  {'n_neighbors': 19, 'weights': 'distance'},\n",
       "  {'n_neighbors': 20, 'weights': 'distance'},\n",
       "  {'n_neighbors': 21, 'weights': 'distance'},\n",
       "  {'n_neighbors': 22, 'weights': 'distance'},\n",
       "  {'n_neighbors': 23, 'weights': 'distance'},\n",
       "  {'n_neighbors': 24, 'weights': 'distance'},\n",
       "  {'n_neighbors': 25, 'weights': 'distance'},\n",
       "  {'n_neighbors': 26, 'weights': 'distance'},\n",
       "  {'n_neighbors': 27, 'weights': 'distance'},\n",
       "  {'n_neighbors': 28, 'weights': 'distance'},\n",
       "  {'n_neighbors': 29, 'weights': 'distance'},\n",
       "  {'n_neighbors': 30, 'weights': 'distance'}],\n",
       " 'split0_test_score': array([0.20919566, 0.35990616, 0.38778753, 0.45527358, 0.471395  ,\n",
       "        0.48409261, 0.50460397, 0.51935425, 0.52187998, 0.52884929,\n",
       "        0.52387782, 0.51996475, 0.51970407, 0.52063518, 0.520087  ,\n",
       "        0.52175715, 0.52256079, 0.52177715, 0.51640847, 0.51601294,\n",
       "        0.51470205, 0.51444097, 0.51576752, 0.51638016, 0.51545931,\n",
       "        0.51426841, 0.51441509, 0.51463936, 0.51322954, 0.51286792]),\n",
       " 'split1_test_score': array([0.19092451, 0.31023193, 0.36288978, 0.39784392, 0.41732888,\n",
       "        0.42924265, 0.44245179, 0.4486274 , 0.45572783, 0.4571749 ,\n",
       "        0.45970161, 0.46130554, 0.4644248 , 0.46135045, 0.46683177,\n",
       "        0.46748878, 0.47013377, 0.47320884, 0.47198012, 0.47114467,\n",
       "        0.46912328, 0.47087551, 0.47181343, 0.47404208, 0.47335454,\n",
       "        0.47402498, 0.47470519, 0.47697969, 0.47982654, 0.48242575]),\n",
       " 'split2_test_score': array([0.28526454, 0.48147854, 0.5593849 , 0.5923244 , 0.58588702,\n",
       "        0.59840849, 0.60491867, 0.61318693, 0.6145839 , 0.61489758,\n",
       "        0.60879364, 0.61287951, 0.61340778, 0.61633326, 0.61365706,\n",
       "        0.61044046, 0.60711391, 0.60533266, 0.60837932, 0.60738568,\n",
       "        0.60356304, 0.6022988 , 0.59788407, 0.5981067 , 0.5985302 ,\n",
       "        0.59954331, 0.597314  , 0.59633673, 0.59417598, 0.5916908 ]),\n",
       " 'split3_test_score': array([0.09917452, 0.36255546, 0.43557187, 0.45965356, 0.50320169,\n",
       "        0.50299937, 0.51456061, 0.52138574, 0.5252139 , 0.53144871,\n",
       "        0.52228044, 0.53620665, 0.536645  , 0.54098779, 0.54565986,\n",
       "        0.546898  , 0.54740206, 0.5480591 , 0.5483591 , 0.54986219,\n",
       "        0.55119419, 0.5514365 , 0.54911256, 0.54608818, 0.54540765,\n",
       "        0.54393138, 0.54309906, 0.54410925, 0.54531377, 0.54423058]),\n",
       " 'split4_test_score': array([0.19926472, 0.39599908, 0.46497699, 0.51308242, 0.52890694,\n",
       "        0.53198534, 0.54079374, 0.54374669, 0.541521  , 0.5438915 ,\n",
       "        0.54243113, 0.54349698, 0.54011586, 0.54439925, 0.54412601,\n",
       "        0.54213035, 0.54590362, 0.54580076, 0.54912625, 0.54663456,\n",
       "        0.54742039, 0.54662436, 0.54368857, 0.54255309, 0.54609779,\n",
       "        0.54581099, 0.5438374 , 0.54321729, 0.54190064, 0.54038863]),\n",
       " 'split5_test_score': array([0.05061484, 0.40618248, 0.47742083, 0.49404469, 0.51517595,\n",
       "        0.53755078, 0.5409236 , 0.54617958, 0.55510954, 0.56083804,\n",
       "        0.56028473, 0.56467325, 0.56749588, 0.56625149, 0.56994084,\n",
       "        0.56986705, 0.57013016, 0.57276136, 0.57463681, 0.57324344,\n",
       "        0.57243545, 0.56746048, 0.57102686, 0.56986044, 0.56992078,\n",
       "        0.56741283, 0.56645165, 0.56311335, 0.56255839, 0.56203331]),\n",
       " 'split6_test_score': array([0.23339043, 0.40970655, 0.46533637, 0.49568081, 0.49968724,\n",
       "        0.51978985, 0.53972043, 0.54906084, 0.55833187, 0.56417981,\n",
       "        0.56390599, 0.56865502, 0.56869532, 0.57079349, 0.56908553,\n",
       "        0.57264054, 0.57752784, 0.57602937, 0.57746848, 0.57611504,\n",
       "        0.57604745, 0.57505982, 0.57285403, 0.57696168, 0.57779974,\n",
       "        0.57446438, 0.57410066, 0.57489422, 0.57481068, 0.57388257]),\n",
       " 'split7_test_score': array([0.27759326, 0.43905059, 0.47905132, 0.53635228, 0.56374424,\n",
       "        0.5631936 , 0.57470709, 0.58582803, 0.59622665, 0.60131812,\n",
       "        0.60447738, 0.60695934, 0.60752234, 0.6093439 , 0.61593337,\n",
       "        0.61769998, 0.61846081, 0.62078667, 0.6223462 , 0.62049524,\n",
       "        0.61989944, 0.61906691, 0.61830003, 0.6197724 , 0.61900313,\n",
       "        0.61785763, 0.61701742, 0.61302349, 0.61340205, 0.61134503]),\n",
       " 'split8_test_score': array([0.33530187, 0.4456991 , 0.50399143, 0.49901271, 0.52342442,\n",
       "        0.5391189 , 0.54573508, 0.54916802, 0.5532542 , 0.55743385,\n",
       "        0.55382067, 0.55505925, 0.56028315, 0.56511694, 0.57137881,\n",
       "        0.57049264, 0.56987198, 0.56936676, 0.56941437, 0.56885435,\n",
       "        0.56729881, 0.56595726, 0.56500506, 0.56248803, 0.56056852,\n",
       "        0.56198024, 0.56177555, 0.55859932, 0.56182716, 0.56126611]),\n",
       " 'split9_test_score': array([-0.02979145,  0.25905384,  0.31358463,  0.34351814,  0.37874865,\n",
       "         0.40445094,  0.40531569,  0.41313169,  0.4307208 ,  0.43401221,\n",
       "         0.44416009,  0.44274864,  0.44892927,  0.45319563,  0.45375352,\n",
       "         0.45553662,  0.45547886,  0.45337123,  0.45127201,  0.45415534,\n",
       "         0.45705304,  0.45820578,  0.45617293,  0.45903303,  0.46242108,\n",
       "         0.45944418,  0.46021942,  0.45888476,  0.45750621,  0.45539507]),\n",
       " 'mean_test_score': array([0.18509329, 0.38698637, 0.44499956, 0.47867865, 0.49875   ,\n",
       "        0.51108325, 0.52137307, 0.52896692, 0.53525697, 0.5394044 ,\n",
       "        0.53837335, 0.54119489, 0.54272235, 0.54484074, 0.54704538,\n",
       "        0.54749516, 0.54845838, 0.54864939, 0.54893911, 0.54839034,\n",
       "        0.54787371, 0.54714264, 0.5461625 , 0.54652858, 0.54685627,\n",
       "        0.54587383, 0.54529354, 0.54437975, 0.5444551 , 0.54355258]),\n",
       " 'std_test_score': array([0.10767704, 0.0629609 , 0.06852838, 0.06638995, 0.05950118,\n",
       "        0.05585928, 0.05615995, 0.05628044, 0.0536957 , 0.05384687,\n",
       "        0.0512351 , 0.05245573, 0.05127708, 0.05175455, 0.05163288,\n",
       "        0.05108961, 0.05056908, 0.05067231, 0.0522833 , 0.05136667,\n",
       "        0.05062114, 0.04957421, 0.04912153, 0.04856429, 0.04803448,\n",
       "        0.04820567, 0.04751879, 0.0465122 , 0.04636387, 0.04576961]),\n",
       " 'rank_test_score': array([30, 29, 28, 27, 26, 25, 24, 23, 22, 20, 21, 19, 18, 14,  8,  6,  3,\n",
       "         2,  1,  4,  5,  7, 11, 10,  9, 12, 13, 16, 15, 17], dtype=int32)}"
      ]
     },
     "execution_count": 87,
     "metadata": {},
     "output_type": "execute_result"
    }
   ],
   "source": [
    "gs = GridSearchCV(estimator = KNeighborsRegressor(),\n",
    "                  #dictionary of all values we want to test for n_neighbors\n",
    "                  param_grid = {\"n_neighbors\": range(1,31), #1 to 30; we get 30 choices\n",
    "                                \"weights\": ['distance']},  \n",
    "                  cv=10)\n",
    "\n",
    "gs.fit(X_train, y_train)\n",
    "\n",
    "gs.cv_results_"
   ]
  },
  {
   "cell_type": "code",
   "execution_count": 88,
   "id": "121bf84b",
   "metadata": {},
   "outputs": [
    {
     "data": {
      "text/plain": [
       "{'n_neighbors': 19, 'weights': 'distance'}"
      ]
     },
     "execution_count": 88,
     "metadata": {},
     "output_type": "execute_result"
    }
   ],
   "source": [
    "gs.best_params_"
   ]
  },
  {
   "cell_type": "code",
   "execution_count": 89,
   "id": "8ac902c8",
   "metadata": {},
   "outputs": [
    {
     "data": {
      "text/plain": [
       "54.893911337394144"
      ]
     },
     "execution_count": 89,
     "metadata": {},
     "output_type": "execute_result"
    }
   ],
   "source": [
    "gs.best_score_ *100"
   ]
  },
  {
   "cell_type": "code",
   "execution_count": 90,
   "id": "775a5709",
   "metadata": {},
   "outputs": [
    {
     "data": {
      "text/plain": [
       "4.826267093812806"
      ]
     },
     "execution_count": 90,
     "metadata": {},
     "output_type": "execute_result"
    }
   ],
   "source": [
    "y_pred = gs.predict(X_test)\n",
    "mean_squared_error(y_test, y_pred)"
   ]
  },
  {
   "cell_type": "markdown",
   "id": "e227f6f2",
   "metadata": {},
   "source": [
    "We can see that 19 is the optimal value for ‘n_neighbors’. We then use the ‘best_score_’ function to check the accuracy of our model when ‘n_neighbors’ is 19 and get 54.89% accuracy. We did not improve the model, the accuracy decreased approximately 0.7%. And, the mean squared error slightly increased, which is not what we want."
   ]
  }
 ],
 "metadata": {
  "kernelspec": {
   "display_name": "Python 3 (ipykernel)",
   "language": "python",
   "name": "python3"
  },
  "language_info": {
   "codemirror_mode": {
    "name": "ipython",
    "version": 3
   },
   "file_extension": ".py",
   "mimetype": "text/x-python",
   "name": "python",
   "nbconvert_exporter": "python",
   "pygments_lexer": "ipython3",
   "version": "3.9.7"
  }
 },
 "nbformat": 4,
 "nbformat_minor": 5
}
